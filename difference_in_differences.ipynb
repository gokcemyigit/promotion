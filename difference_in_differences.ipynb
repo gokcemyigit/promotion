{
 "cells": [
  {
   "cell_type": "code",
   "execution_count": 1,
   "metadata": {},
   "outputs": [],
   "source": [
    "import numpy as np\n",
    "import pandas as pd\n",
    "import statsmodels.formula.api as smf\n",
    "import matplotlib.pyplot as plt\n",
    "import seaborn as sns"
   ]
  },
  {
   "cell_type": "code",
   "execution_count": 2,
   "metadata": {},
   "outputs": [
    {
     "data": {
      "text/html": [
       "<div>\n",
       "<style scoped>\n",
       "    .dataframe tbody tr th:only-of-type {\n",
       "        vertical-align: middle;\n",
       "    }\n",
       "\n",
       "    .dataframe tbody tr th {\n",
       "        vertical-align: top;\n",
       "    }\n",
       "\n",
       "    .dataframe thead th {\n",
       "        text-align: right;\n",
       "    }\n",
       "</style>\n",
       "<table border=\"1\" class=\"dataframe\">\n",
       "  <thead>\n",
       "    <tr style=\"text-align: right;\">\n",
       "      <th></th>\n",
       "      <th>product_id</th>\n",
       "      <th>treatment</th>\n",
       "      <th>pre_promotion_profit</th>\n",
       "      <th>post_promotion_profit</th>\n",
       "      <th>profit_change</th>\n",
       "    </tr>\n",
       "  </thead>\n",
       "  <tbody>\n",
       "    <tr>\n",
       "      <th>0</th>\n",
       "      <td>0</td>\n",
       "      <td>0</td>\n",
       "      <td>104</td>\n",
       "      <td>90</td>\n",
       "      <td>-13.461538</td>\n",
       "    </tr>\n",
       "    <tr>\n",
       "      <th>1</th>\n",
       "      <td>1</td>\n",
       "      <td>0</td>\n",
       "      <td>98</td>\n",
       "      <td>100</td>\n",
       "      <td>2.040816</td>\n",
       "    </tr>\n",
       "    <tr>\n",
       "      <th>2</th>\n",
       "      <td>2</td>\n",
       "      <td>0</td>\n",
       "      <td>106</td>\n",
       "      <td>101</td>\n",
       "      <td>-4.716981</td>\n",
       "    </tr>\n",
       "    <tr>\n",
       "      <th>3</th>\n",
       "      <td>3</td>\n",
       "      <td>0</td>\n",
       "      <td>115</td>\n",
       "      <td>96</td>\n",
       "      <td>-16.521739</td>\n",
       "    </tr>\n",
       "    <tr>\n",
       "      <th>4</th>\n",
       "      <td>4</td>\n",
       "      <td>0</td>\n",
       "      <td>97</td>\n",
       "      <td>103</td>\n",
       "      <td>6.185567</td>\n",
       "    </tr>\n",
       "  </tbody>\n",
       "</table>\n",
       "</div>"
      ],
      "text/plain": [
       "   product_id  treatment  pre_promotion_profit  post_promotion_profit  \\\n",
       "0           0          0                   104                     90   \n",
       "1           1          0                    98                    100   \n",
       "2           2          0                   106                    101   \n",
       "3           3          0                   115                     96   \n",
       "4           4          0                    97                    103   \n",
       "\n",
       "   profit_change  \n",
       "0     -13.461538  \n",
       "1       2.040816  \n",
       "2      -4.716981  \n",
       "3     -16.521739  \n",
       "4       6.185567  "
      ]
     },
     "execution_count": 2,
     "metadata": {},
     "output_type": "execute_result"
    }
   ],
   "source": [
    "# Set random seed for reproducibility\n",
    "np.random.seed(42)\n",
    "\n",
    "# Define sample size\n",
    "n = 50\n",
    "\n",
    "# Generate profits before and after promotion for control and treatment groups\n",
    "control_pre = np.random.normal(100, 10, n).astype(int)\n",
    "treatment_pre = np.random.normal(100, 10, n).astype(int)\n",
    "control_post = np.random.normal(105, 10, n).astype(int)\n",
    "treatment_post = np.random.normal(105, 10, n).astype(int)\n",
    "\n",
    "# Apply the promotion effect to the treatment group after promotion\n",
    "promotion_effect = 20\n",
    "treatment_post += promotion_effect\n",
    "\n",
    "# Create DataFrame\n",
    "data = pd.DataFrame({\n",
    "    \"product_id\": np.arange(n * 2),\n",
    "    \"treatment\": np.repeat([0, 1], n),  # 0 = Control, 1 = Treatment\n",
    "    \"pre_promotion_profit\": np.concatenate([control_pre, treatment_pre]),\n",
    "    \"post_promotion_profit\": np.concatenate([control_post, treatment_post])\n",
    "})\n",
    "\n",
    "# Calculate profit difference (Post - Pre) for each store\n",
    "data[\"profit_change\"] = ((data[\"post_promotion_profit\"] - data[\"pre_promotion_profit\"]) / data[\"pre_promotion_profit\"]) * 100\n",
    "\n",
    "data.head()"
   ]
  },
  {
   "cell_type": "code",
   "execution_count": 3,
   "metadata": {},
   "outputs": [
    {
     "name": "stdout",
     "output_type": "stream",
     "text": [
      "\n",
      "Model Summary:\n",
      "                            OLS Regression Results                            \n",
      "==============================================================================\n",
      "Dep. Variable:          profit_change   R-squared:                       0.245\n",
      "Model:                            OLS   Adj. R-squared:                  0.237\n",
      "Method:                 Least Squares   F-statistic:                     31.81\n",
      "Date:                Sun, 23 Feb 2025   Prob (F-statistic):           1.65e-07\n",
      "Time:                        12:24:03   Log-Likelihood:                -421.84\n",
      "No. Observations:                 100   AIC:                             847.7\n",
      "Df Residuals:                      98   BIC:                             852.9\n",
      "Df Model:                           1                                         \n",
      "Covariance Type:            nonrobust                                         \n",
      "==============================================================================\n",
      "                 coef    std err          t      P>|t|      [0.025      0.975]\n",
      "------------------------------------------------------------------------------\n",
      "Intercept      8.2053      2.348      3.495      0.001       3.546      12.865\n",
      "treatment     18.7268      3.321      5.640      0.000      12.137      25.316\n",
      "==============================================================================\n",
      "Omnibus:                       24.930   Durbin-Watson:                   1.967\n",
      "Prob(Omnibus):                  0.000   Jarque-Bera (JB):               37.811\n",
      "Skew:                           1.125   Prob(JB):                     6.16e-09\n",
      "Kurtosis:                       5.003   Cond. No.                         2.62\n",
      "==============================================================================\n",
      "\n",
      "Notes:\n",
      "[1] Standard Errors assume that the covariance matrix of the errors is correctly specified.\n"
     ]
    }
   ],
   "source": [
    "# Run Difference-in-Differences regression directly on profit change\n",
    "model = smf.ols(\"profit_change ~ treatment\", data=data).fit()\n",
    "\n",
    "print(\"\\nModel Summary:\")\n",
    "print(model.summary())\n"
   ]
  },
  {
   "cell_type": "code",
   "execution_count": 4,
   "metadata": {},
   "outputs": [
    {
     "name": "stderr",
     "output_type": "stream",
     "text": [
      "C:\\Users\\gokcem.yigit\\AppData\\Local\\Temp\\ipykernel_29488\\1548722528.py:3: FutureWarning: \n",
      "\n",
      "Passing `palette` without assigning `hue` is deprecated and will be removed in v0.14.0. Assign the `x` variable to `hue` and set `legend=False` for the same effect.\n",
      "\n",
      "  sns.boxplot(x=\"treatment\", y=\"profit_change\", data=data, palette=[\"blue\", \"orange\"])\n"
     ]
    },
    {
     "data": {
      "image/png": "[encoded data removed]",
      "text/plain": [
       "<Figure size 800x600 with 1 Axes>"
      ]
     },
     "metadata": {},
     "output_type": "display_data"
    }
   ],
   "source": [
    "# Create box plot\n",
    "plt.figure(figsize=(8, 6))\n",
    "sns.boxplot(x=\"treatment\", y=\"profit_change\", data=data, palette=[\"blue\", \"orange\"])\n",
    "\n",
    "plt.xticks(ticks=[0, 1], labels=[\"Control\", \"Treatment\"])\n",
    "plt.xlabel(\"Group\")\n",
    "plt.ylabel(\"Profit Change (%)\")\n",
    "plt.title(\"Profit Change by Treatment Group\")\n",
    "\n",
    "plt.show()\n"
   ]
  }
 ],
 "metadata": {
  "kernelspec": {
   "display_name": "Python 3",
   "language": "python",
   "name": "python3"
  },
  "language_info": {
   "codemirror_mode": {
    "name": "ipython",
    "version": 3
   },
   "file_extension": ".py",
   "mimetype": "text/x-python",
   "name": "python",
   "nbconvert_exporter": "python",
   "pygments_lexer": "ipython3",
   "version": "3.10.1"
  }
 },
 "nbformat": 4,
 "nbformat_minor": 2
}
